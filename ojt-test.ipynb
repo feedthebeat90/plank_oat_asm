{
 "cells": [
  {
   "cell_type": "code",
   "execution_count": 2,
   "metadata": {
    "scrolled": true
   },
   "outputs": [
    {
     "name": "stdout",
     "output_type": "stream",
     "text": [
      "Starting length of Amicus dataset: 13939 rows\n",
      "Starting length of Bonica dataset: 1332470 rows\n",
      "Amicus dataset has 13939 unique elements\n",
      "Bonica dataset has 1332470 unique elements\n",
      "There are 1767 exact matches between the Amicus and Bonica datasets\n",
      "The union set contains 1344642 elements\n",
      "Starting length of handcoded Amicus-Bonica dataset: 231 rows\n",
      "Handcoded dataset has 279 unique elements\n",
      "Set of Bonica elements that have not been matched to Amicus elements contains 1344497 rows\n",
      "Length of Amicus dataset post-removal: 13860\n",
      "Length of Bonica dataset post-removal: 1332364\n",
      "Handcoded strings successfully removed!\n"
     ]
    }
   ],
   "source": [
    "# Imports\n",
    "import numpy as np\n",
    "import pandas as pd\n",
    "import textdistance\n",
    "from sklearn.ensemble import RandomForestClassifier\n",
    "from sklearn.model_selection import GridSearchCV\n",
    "from sklearn.metrics import accuracy_score\n",
    "import fuzzywuzzy\n",
    "from fuzzywuzzy import fuzz\n",
    "from collections import defaultdict\n",
    "\n",
    "# Read full amicus, 'reduced' bonica and print initial stats\n",
    "amicus = pd.read_csv('amicus_org_names.csv').drop(['Unnamed: 0'], axis=1).rename(columns={'x': 'amicus'})\n",
    "bonica = pd.read_csv('bonica_orgs_reduced.csv', header=None, names=['index', 'bonica']).drop(['index'], axis=1)\n",
    "amicus['amicus'] = amicus['amicus'].apply(lambda x: x.lower())\n",
    "bonica['bonica'] = bonica['bonica'].apply(lambda x: x.lower())\n",
    "print('Starting length of Amicus dataset: {} rows'.format(len(amicus)))\n",
    "print('Starting length of Bonica dataset: {} rows'.format(len(bonica)))\n",
    "print('Amicus dataset has {} unique elements'.format(len(sorted(list(set(amicus['amicus']))))))\n",
    "print('Bonica dataset has {} unique elements'.format(len(sorted(list(set(bonica['bonica']))))))\n",
    "print('There are {} exact matches between the Amicus and Bonica datasets'.format(len(set(amicus['amicus']).intersection(bonica['bonica']))))\n",
    "total_set = set(amicus['amicus']).union(set(bonica['bonica']))\n",
    "print('The union set contains {} elements'.format(len(sorted(list(total_set)))))\n",
    "\n",
    "# Read in handcoded subset (matches between amicus, bonica) and print initial stats\n",
    "handcoded = pd.read_csv('handcoded.csv')\n",
    "handcoded = handcoded.drop(['Unnamed: 0'], axis=1)\n",
    "handcoded['amicus'] = handcoded['amicus'].apply(lambda x: x.lower())\n",
    "handcoded['bonica'] = handcoded['bonica'].apply(lambda x: x.lower())\n",
    "handcoded_subset = set(handcoded['amicus']).union(set(handcoded['bonica']))\n",
    "print('Starting length of handcoded Amicus-Bonica dataset: {} rows'.format(len(handcoded)))\n",
    "print('Handcoded dataset has {} unique elements'.format(len(handcoded_subset)))\n",
    "\n",
    "# Get set of elements not contained in handcoded subset\n",
    "unmatched_set = total_set - handcoded_subset\n",
    "print('Set of Bonica elements that have not been matched to Amicus elements contains {} rows'.format(len(unmatched_set)))\n",
    "\n",
    "# Update amicus and bonica by removing handcoded strings\n",
    "amicus_updated = amicus[~amicus['amicus'].isin(sorted(list(handcoded_subset)))]\n",
    "bonica_updated = bonica[~bonica['bonica'].isin(sorted(list(handcoded_subset)))]\n",
    "print('Length of Amicus dataset post-removal: {}'.format(len(amicus_updated)))\n",
    "print('Length of Bonica dataset post-removal: {}'.format(len(bonica_updated)))\n",
    "\n",
    "# Shuffle and reset index, then combine\n",
    "amicus_updated_shuffled = amicus_updated.sample(frac=1).reset_index(drop=True)\n",
    "bonica_updated_shuffled = bonica_updated.sample(frac=1).reset_index(drop=True)\n",
    "\n",
    "combiner = []\n",
    "for i in range(len(amicus_updated_shuffled)):\n",
    "    combiner.append([amicus_updated_shuffled.iloc[i].values[0], bonica_updated_shuffled.iloc[i].values[0]])\n",
    "combined = pd.DataFrame(combiner, columns=['amicus', 'bonica'])\n",
    "combined['match'] = np.nan\n",
    "\n",
    "# Check for stray handcoded strings, and confirm that strings come from correct sources\n",
    "strays = []\n",
    "for i in sorted(list(handcoded_subset)):\n",
    "    if (i in combined['amicus']) or (i in combined['bonica']): \n",
    "        strays.append(i)\n",
    "if len(strays) != 0: print('Stray matched string found!')\n",
    "else: print('Handcoded strings successfully removed!')\n",
    "\n",
    "for i in combined['bonica']:\n",
    "    if (i in amicus['amicus']) or (i in amicus_updated['amicus']) or (i in amicus_updated_shuffled['amicus']):\n",
    "        print('Error: string originally from bonica found in amicus column')\n",
    "for i in combined['amicus']:\n",
    "    if (i in bonica['bonica']) or (i in bonica_updated['bonica']) or (i in bonica_updated_shuffled['bonica']):\n",
    "        print('Error: string originally from amicus found in bonica column')"
   ]
  },
  {
   "cell_type": "code",
   "execution_count": 13,
   "metadata": {},
   "outputs": [
    {
     "name": "stdout",
     "output_type": "stream",
     "text": [
      "5009\n"
     ]
    }
   ],
   "source": [
    "import random\n",
    "\n",
    "match_index = random.randint(0,len(combined))\n",
    "print(match_index)"
   ]
  },
  {
   "cell_type": "code",
   "execution_count": 48,
   "metadata": {},
   "outputs": [
    {
     "name": "stdout",
     "output_type": "stream",
     "text": [
      "How many samples would you like to label: -1\n",
      "Please enter a number between 0 and 13860: r\n"
     ]
    }
   ],
   "source": [
    "num_todo = input('How many samples would you like to label: ')\n",
    "if not (num_todo.isdigit()) and not (int(num_todo) >= 0):\n",
    "    input('Please enter a number between 0 and {}: '.format(len(combined)))"
   ]
  },
  {
   "cell_type": "code",
   "execution_count": 43,
   "metadata": {},
   "outputs": [
    {
     "name": "stdout",
     "output_type": "stream",
     "text": [
      "If String #1 and String #2 match, please enter \"1\"\n",
      "If they do not match, please enter \"0\"\n",
      "If you are unsure, please enter \"?\"\n",
      "\n",
      "String #1: 'california alliance for retired americans'\n",
      "String #2: 'craftsman homes inc'\n",
      "Match?y\n"
     ]
    },
    {
     "ename": "KeyboardInterrupt",
     "evalue": "",
     "output_type": "error",
     "traceback": [
      "\u001b[0;31m---------------------------------------------------------------------------\u001b[0m",
      "\u001b[0;31mKeyboardInterrupt\u001b[0m                         Traceback (most recent call last)",
      "\u001b[0;32m~/venv/lib/python3.7/site-packages/ipykernel/kernelbase.py\u001b[0m in \u001b[0;36m_input_request\u001b[0;34m(self, prompt, ident, parent, password)\u001b[0m\n\u001b[1;32m    884\u001b[0m             \u001b[0;32mtry\u001b[0m\u001b[0;34m:\u001b[0m\u001b[0;34m\u001b[0m\u001b[0;34m\u001b[0m\u001b[0m\n\u001b[0;32m--> 885\u001b[0;31m                 \u001b[0mident\u001b[0m\u001b[0;34m,\u001b[0m \u001b[0mreply\u001b[0m \u001b[0;34m=\u001b[0m \u001b[0mself\u001b[0m\u001b[0;34m.\u001b[0m\u001b[0msession\u001b[0m\u001b[0;34m.\u001b[0m\u001b[0mrecv\u001b[0m\u001b[0;34m(\u001b[0m\u001b[0mself\u001b[0m\u001b[0;34m.\u001b[0m\u001b[0mstdin_socket\u001b[0m\u001b[0;34m,\u001b[0m \u001b[0;36m0\u001b[0m\u001b[0;34m)\u001b[0m\u001b[0;34m\u001b[0m\u001b[0;34m\u001b[0m\u001b[0m\n\u001b[0m\u001b[1;32m    886\u001b[0m             \u001b[0;32mexcept\u001b[0m \u001b[0mException\u001b[0m\u001b[0;34m:\u001b[0m\u001b[0;34m\u001b[0m\u001b[0;34m\u001b[0m\u001b[0m\n",
      "\u001b[0;32m~/venv/lib/python3.7/site-packages/jupyter_client/session.py\u001b[0m in \u001b[0;36mrecv\u001b[0;34m(self, socket, mode, content, copy)\u001b[0m\n\u001b[1;32m    802\u001b[0m         \u001b[0;32mtry\u001b[0m\u001b[0;34m:\u001b[0m\u001b[0;34m\u001b[0m\u001b[0;34m\u001b[0m\u001b[0m\n\u001b[0;32m--> 803\u001b[0;31m             \u001b[0mmsg_list\u001b[0m \u001b[0;34m=\u001b[0m \u001b[0msocket\u001b[0m\u001b[0;34m.\u001b[0m\u001b[0mrecv_multipart\u001b[0m\u001b[0;34m(\u001b[0m\u001b[0mmode\u001b[0m\u001b[0;34m,\u001b[0m \u001b[0mcopy\u001b[0m\u001b[0;34m=\u001b[0m\u001b[0mcopy\u001b[0m\u001b[0;34m)\u001b[0m\u001b[0;34m\u001b[0m\u001b[0;34m\u001b[0m\u001b[0m\n\u001b[0m\u001b[1;32m    804\u001b[0m         \u001b[0;32mexcept\u001b[0m \u001b[0mzmq\u001b[0m\u001b[0;34m.\u001b[0m\u001b[0mZMQError\u001b[0m \u001b[0;32mas\u001b[0m \u001b[0me\u001b[0m\u001b[0;34m:\u001b[0m\u001b[0;34m\u001b[0m\u001b[0;34m\u001b[0m\u001b[0m\n",
      "\u001b[0;32m~/venv/lib/python3.7/site-packages/zmq/sugar/socket.py\u001b[0m in \u001b[0;36mrecv_multipart\u001b[0;34m(self, flags, copy, track)\u001b[0m\n\u001b[1;32m    474\u001b[0m         \"\"\"\n\u001b[0;32m--> 475\u001b[0;31m         \u001b[0mparts\u001b[0m \u001b[0;34m=\u001b[0m \u001b[0;34m[\u001b[0m\u001b[0mself\u001b[0m\u001b[0;34m.\u001b[0m\u001b[0mrecv\u001b[0m\u001b[0;34m(\u001b[0m\u001b[0mflags\u001b[0m\u001b[0;34m,\u001b[0m \u001b[0mcopy\u001b[0m\u001b[0;34m=\u001b[0m\u001b[0mcopy\u001b[0m\u001b[0;34m,\u001b[0m \u001b[0mtrack\u001b[0m\u001b[0;34m=\u001b[0m\u001b[0mtrack\u001b[0m\u001b[0;34m)\u001b[0m\u001b[0;34m]\u001b[0m\u001b[0;34m\u001b[0m\u001b[0;34m\u001b[0m\u001b[0m\n\u001b[0m\u001b[1;32m    476\u001b[0m         \u001b[0;31m# have first part already, only loop while more to receive\u001b[0m\u001b[0;34m\u001b[0m\u001b[0;34m\u001b[0m\u001b[0;34m\u001b[0m\u001b[0m\n",
      "\u001b[0;32mzmq/backend/cython/socket.pyx\u001b[0m in \u001b[0;36mzmq.backend.cython.socket.Socket.recv\u001b[0;34m()\u001b[0m\n",
      "\u001b[0;32mzmq/backend/cython/socket.pyx\u001b[0m in \u001b[0;36mzmq.backend.cython.socket.Socket.recv\u001b[0;34m()\u001b[0m\n",
      "\u001b[0;32mzmq/backend/cython/socket.pyx\u001b[0m in \u001b[0;36mzmq.backend.cython.socket._recv_copy\u001b[0;34m()\u001b[0m\n",
      "\u001b[0;32m~/venv/lib/python3.7/site-packages/zmq/backend/cython/checkrc.pxd\u001b[0m in \u001b[0;36mzmq.backend.cython.checkrc._check_rc\u001b[0;34m()\u001b[0m\n",
      "\u001b[0;31mKeyboardInterrupt\u001b[0m: ",
      "\nDuring handling of the above exception, another exception occurred:\n",
      "\u001b[0;31mKeyboardInterrupt\u001b[0m                         Traceback (most recent call last)",
      "\u001b[0;32m<ipython-input-43-2f0d46ab6adc>\u001b[0m in \u001b[0;36m<module>\u001b[0;34m\u001b[0m\n\u001b[1;32m      6\u001b[0m \u001b[0;34m\u001b[0m\u001b[0m\n\u001b[1;32m      7\u001b[0m \u001b[0;32mwhile\u001b[0m \u001b[0;32mTrue\u001b[0m\u001b[0;34m:\u001b[0m\u001b[0;34m\u001b[0m\u001b[0;34m\u001b[0m\u001b[0m\n\u001b[0;32m----> 8\u001b[0;31m     \u001b[0mmatch\u001b[0m \u001b[0;34m=\u001b[0m \u001b[0minput\u001b[0m\u001b[0;34m(\u001b[0m\u001b[0;34m'Match?'\u001b[0m\u001b[0;34m)\u001b[0m\u001b[0;34m\u001b[0m\u001b[0;34m\u001b[0m\u001b[0m\n\u001b[0m\u001b[1;32m      9\u001b[0m     \u001b[0;32mif\u001b[0m \u001b[0mmatch\u001b[0m \u001b[0;34m==\u001b[0m \u001b[0;34m'y'\u001b[0m\u001b[0;34m:\u001b[0m\u001b[0;34m\u001b[0m\u001b[0;34m\u001b[0m\u001b[0m\n\u001b[1;32m     10\u001b[0m         \u001b[0mmatch_todo\u001b[0m \u001b[0;34m=\u001b[0m \u001b[0;36m1\u001b[0m\u001b[0;34m\u001b[0m\u001b[0;34m\u001b[0m\u001b[0m\n",
      "\u001b[0;32m~/venv/lib/python3.7/site-packages/ipykernel/kernelbase.py\u001b[0m in \u001b[0;36mraw_input\u001b[0;34m(self, prompt)\u001b[0m\n\u001b[1;32m    858\u001b[0m             \u001b[0mself\u001b[0m\u001b[0;34m.\u001b[0m\u001b[0m_parent_ident\u001b[0m\u001b[0;34m,\u001b[0m\u001b[0;34m\u001b[0m\u001b[0;34m\u001b[0m\u001b[0m\n\u001b[1;32m    859\u001b[0m             \u001b[0mself\u001b[0m\u001b[0;34m.\u001b[0m\u001b[0m_parent_header\u001b[0m\u001b[0;34m,\u001b[0m\u001b[0;34m\u001b[0m\u001b[0;34m\u001b[0m\u001b[0m\n\u001b[0;32m--> 860\u001b[0;31m             \u001b[0mpassword\u001b[0m\u001b[0;34m=\u001b[0m\u001b[0;32mFalse\u001b[0m\u001b[0;34m,\u001b[0m\u001b[0;34m\u001b[0m\u001b[0;34m\u001b[0m\u001b[0m\n\u001b[0m\u001b[1;32m    861\u001b[0m         )\n\u001b[1;32m    862\u001b[0m \u001b[0;34m\u001b[0m\u001b[0m\n",
      "\u001b[0;32m~/venv/lib/python3.7/site-packages/ipykernel/kernelbase.py\u001b[0m in \u001b[0;36m_input_request\u001b[0;34m(self, prompt, ident, parent, password)\u001b[0m\n\u001b[1;32m    888\u001b[0m             \u001b[0;32mexcept\u001b[0m \u001b[0mKeyboardInterrupt\u001b[0m\u001b[0;34m:\u001b[0m\u001b[0;34m\u001b[0m\u001b[0;34m\u001b[0m\u001b[0m\n\u001b[1;32m    889\u001b[0m                 \u001b[0;31m# re-raise KeyboardInterrupt, to truncate traceback\u001b[0m\u001b[0;34m\u001b[0m\u001b[0;34m\u001b[0m\u001b[0;34m\u001b[0m\u001b[0m\n\u001b[0;32m--> 890\u001b[0;31m                 \u001b[0;32mraise\u001b[0m \u001b[0mKeyboardInterrupt\u001b[0m\u001b[0;34m\u001b[0m\u001b[0;34m\u001b[0m\u001b[0m\n\u001b[0m\u001b[1;32m    891\u001b[0m             \u001b[0;32melse\u001b[0m\u001b[0;34m:\u001b[0m\u001b[0;34m\u001b[0m\u001b[0;34m\u001b[0m\u001b[0m\n\u001b[1;32m    892\u001b[0m                 \u001b[0;32mbreak\u001b[0m\u001b[0;34m\u001b[0m\u001b[0;34m\u001b[0m\u001b[0m\n",
      "\u001b[0;31mKeyboardInterrupt\u001b[0m: "
     ]
    }
   ],
   "source": [
    "amicus_todo = combined.iloc[match_index].values[0]\n",
    "bonica_todo = combined.iloc[match_index].values[1]\n",
    "match_todo = ''\n",
    "print('If String #1 and String #2 match, please enter \"1\"\\nIf they do not match, please enter \"0\"\\nIf you are unsure, please enter \"?\"\\n')\n",
    "print('String #1: \\''+amicus_todo+'\\'\\nString #2: \\''+bonica_todo+'\\'')\n",
    "\n",
    "match = input('Match?')\n",
    "if match == 'y':\n",
    "    match_todo = 1\n",
    "if match == 'n':\n",
    "    match_todo = 0"
   ]
  },
  {
   "cell_type": "code",
   "execution_count": 41,
   "metadata": {},
   "outputs": [
    {
     "name": "stdout",
     "output_type": "stream",
     "text": [
      "\n"
     ]
    }
   ],
   "source": [
    "print(match_todo)"
   ]
  },
  {
   "cell_type": "code",
   "execution_count": 26,
   "metadata": {},
   "outputs": [],
   "source": [
    "import sys\n",
    "from sys import stdin"
   ]
  },
  {
   "cell_type": "code",
   "execution_count": null,
   "metadata": {},
   "outputs": [],
   "source": []
  },
  {
   "cell_type": "code",
   "execution_count": null,
   "metadata": {},
   "outputs": [],
   "source": []
  },
  {
   "cell_type": "code",
   "execution_count": null,
   "metadata": {},
   "outputs": [],
   "source": []
  },
  {
   "cell_type": "code",
   "execution_count": 3,
   "metadata": {},
   "outputs": [
    {
     "name": "stdout",
     "output_type": "stream",
     "text": [
      "Empty DataFrame\n",
      "Columns: [amicus, bonica, match]\n",
      "Index: []\n"
     ]
    }
   ],
   "source": [
    "intersected = pd.merge(combined, handcoded, how='inner')\n",
    "print(intersected)"
   ]
  },
  {
   "cell_type": "code",
   "execution_count": null,
   "metadata": {},
   "outputs": [],
   "source": [
    "# Write CSV of new viable validation and test data\n",
    "combined.to_csv('data_viable_test.csv')\n",
    "\n",
    "# Rename/rewrite handcoded match data to CSV\n",
    "handcoded.to_csv('data_viable_train.csv')\n",
    "\n",
    "# Append handcoded and new cleaned data to create CSV of full dataset\n",
    "full_dataset = combined.append(handcoded)\n",
    "full_dataset.to_csv('data_all.csv')\n",
    "print('Number of rows in viable validation/test data: {}'.format(len(combined)))\n",
    "print('Number of rows in hand-matched training data: {}'.format(len(handcoded)))\n",
    "print('Number of rows in the full dataset: {}'.format(len(full_dataset)))"
   ]
  }
 ],
 "metadata": {
  "kernelspec": {
   "display_name": "Python 3",
   "language": "python",
   "name": "python3"
  },
  "language_info": {
   "codemirror_mode": {
    "name": "ipython",
    "version": 3
   },
   "file_extension": ".py",
   "mimetype": "text/x-python",
   "name": "python",
   "nbconvert_exporter": "python",
   "pygments_lexer": "ipython3",
   "version": "3.7.4"
  }
 },
 "nbformat": 4,
 "nbformat_minor": 2
}
