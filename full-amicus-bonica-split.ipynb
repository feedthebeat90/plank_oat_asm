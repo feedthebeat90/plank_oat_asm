{
 "cells": [
  {
   "cell_type": "code",
   "execution_count": 221,
   "metadata": {},
   "outputs": [],
   "source": [
    "import numpy as np\n",
    "import pandas as pd\n",
    "import textdistance\n",
    "from sklearn.ensemble import RandomForestClassifier\n",
    "from sklearn.model_selection import GridSearchCV\n",
    "from sklearn.metrics import accuracy_score\n",
    "import fuzzywuzzy\n",
    "from fuzzywuzzy import fuzz\n",
    "from collections import defaultdict"
   ]
  },
  {
   "cell_type": "code",
   "execution_count": 222,
   "metadata": {},
   "outputs": [],
   "source": [
    "def match_name(list1, list2):\n",
    "    out = []\n",
    "    for i in list1:\n",
    "        for j in list2:\n",
    "            score = fuzz.ratio(i,j)\n",
    "            out.append([i,j,score])\n",
    "    return out"
   ]
  },
  {
   "cell_type": "code",
   "execution_count": 223,
   "metadata": {},
   "outputs": [
    {
     "name": "stdout",
     "output_type": "stream",
     "text": [
      "Starting length of Amicus dataset: 13939 rows\n",
      "Starting length of Bonica dataset: 1332470 rows\n"
     ]
    }
   ],
   "source": [
    "amicus = pd.read_csv('amicus_org_names.csv').drop(['Unnamed: 0'], axis=1).rename(columns={'x': 'amicus'})\n",
    "bonica = pd.read_csv('bonica_orgs_reduced.csv', header=None, names=['index', 'bonica']).drop(['index'], axis=1)\n",
    "amicus['amicus'] = amicus['amicus'].apply(lambda x: x.lower())\n",
    "bonica['bonica'] = bonica['bonica'].apply(lambda x: x.lower())\n",
    "print('Starting length of Amicus dataset: {} rows'.format(len(amicus)))\n",
    "print('Starting length of Bonica dataset: {} rows'.format(len(bonica)))"
   ]
  },
  {
   "cell_type": "code",
   "execution_count": 224,
   "metadata": {
    "scrolled": true
   },
   "outputs": [
    {
     "name": "stdout",
     "output_type": "stream",
     "text": [
      "Amicus dataset has 13939 unique elements\n",
      "Bonica dataset has 1332470 unique elements\n",
      "There are 1767 exact matches between the Amicus and Bonica datasets\n",
      "The union set contains 1344642 elements\n"
     ]
    }
   ],
   "source": [
    "print('Amicus dataset has {} unique elements'.format(len(sorted(list(set(amicus['amicus']))))))\n",
    "print('Bonica dataset has {} unique elements'.format(len(sorted(list(set(bonica['bonica']))))))\n",
    "print('There are {} exact matches between the Amicus and Bonica datasets'.format(len(set(amicus['amicus']).intersection(bonica['bonica']))))\n",
    "total_set = set(amicus['amicus']).union(set(bonica['bonica']))\n",
    "print('The union set contains {} elements'.format(len(sorted(list(total_set)))))"
   ]
  },
  {
   "cell_type": "code",
   "execution_count": 225,
   "metadata": {},
   "outputs": [
    {
     "name": "stdout",
     "output_type": "stream",
     "text": [
      "Starting length of handcoded Amicus-Bonica dataset: 231 rows\n",
      "Handcoded dataset has 279 unique elements\n"
     ]
    }
   ],
   "source": [
    "handcoded = pd.read_csv('handcoded.csv')\n",
    "handcoded = handcoded.drop(['Unnamed: 0'], axis=1)\n",
    "handcoded['amicus'] = handcoded['amicus'].apply(lambda x: x.lower())\n",
    "handcoded['bonica'] = handcoded['bonica'].apply(lambda x: x.lower())\n",
    "handcoded_subset = set(handcoded['amicus']).union(set(handcoded['bonica']))\n",
    "print('Starting length of handcoded Amicus-Bonica dataset: {} rows'.format(len(handcoded)))\n",
    "print('Handcoded dataset has {} unique elements'.format(len(handcoded_subset)))"
   ]
  },
  {
   "cell_type": "code",
   "execution_count": 226,
   "metadata": {
    "scrolled": true
   },
   "outputs": [
    {
     "name": "stdout",
     "output_type": "stream",
     "text": [
      "Set of Bonica elements that have not been matched to Amicus elements contains 1344497 rows\n"
     ]
    }
   ],
   "source": [
    "unmatched_set = total_set - handcoded_subset\n",
    "print('Set of Bonica elements that have not been matched to Amicus elements contains {} rows'.format(len(unmatched_set)))"
   ]
  },
  {
   "cell_type": "code",
   "execution_count": 227,
   "metadata": {},
   "outputs": [],
   "source": [
    "amicus_updated = amicus[~amicus['amicus'].isin(sorted(list(handcoded_subset)))]\n",
    "bonica_updated = bonica[~bonica['bonica'].isin(sorted(list(handcoded_subset)))]"
   ]
  },
  {
   "cell_type": "code",
   "execution_count": 228,
   "metadata": {},
   "outputs": [
    {
     "name": "stdout",
     "output_type": "stream",
     "text": [
      "Length of Amicus dataset post-removal: 13860\n",
      "Length of Bonica dataset post-removal: 1332364\n"
     ]
    }
   ],
   "source": [
    "print('Length of Amicus dataset post-removal: {}'.format(len(amicus_updated)))\n",
    "print('Length of Bonica dataset post-removal: {}'.format(len(bonica_updated)))"
   ]
  },
  {
   "cell_type": "code",
   "execution_count": 229,
   "metadata": {},
   "outputs": [],
   "source": [
    "amicus_updated_shuffled = amicus_updated.sample(frac=1).reset_index(drop=True)\n",
    "bonica_updated_shuffled = bonica_updated.sample(frac=1).reset_index(drop=True)"
   ]
  },
  {
   "cell_type": "code",
   "execution_count": 234,
   "metadata": {},
   "outputs": [],
   "source": [
    "combiner = []\n",
    "for i in range(len(amicus_updated_shuffled)):\n",
    "    combiner.append([amicus_updated_shuffled.iloc[i].values[0], bonica_updated_shuffled.iloc[i].values[0]])"
   ]
  },
  {
   "cell_type": "code",
   "execution_count": 235,
   "metadata": {},
   "outputs": [],
   "source": [
    "combined = pd.DataFrame(combiner, columns=['amicus', 'bonica'])\n",
    "combined['match'] = np.nan"
   ]
  },
  {
   "cell_type": "code",
   "execution_count": 237,
   "metadata": {},
   "outputs": [
    {
     "name": "stdout",
     "output_type": "stream",
     "text": [
      "Handcoded strings successfully removed!\n"
     ]
    }
   ],
   "source": [
    "strays = []\n",
    "for i in sorted(list(handcoded_subset)):\n",
    "    if (i in combined['amicus']) or (i in combined['bonica']): \n",
    "        strays.append(i)\n",
    "if len(strays) != 0: print('Stray matched string found!')\n",
    "else: print('Handcoded strings successfully removed!')"
   ]
  },
  {
   "cell_type": "code",
   "execution_count": 239,
   "metadata": {},
   "outputs": [],
   "source": [
    "for i in combined['bonica']:\n",
    "    if (i in amicus['amicus']) or (i in amicus_updated['amicus']) or (i in amicus_updated_shuffled['amicus']):\n",
    "        print('Error: string originally from bonica found in amicus column')\n",
    "for i in combined['amicus']:\n",
    "    if (i in bonica['bonica']) or (i in bonica_updated['bonica']) or (i in bonica_updated_shuffled['bonica']):\n",
    "        print('Error: string originally from amicus found in bonica column')"
   ]
  },
  {
   "cell_type": "code",
   "execution_count": 240,
   "metadata": {},
   "outputs": [],
   "source": [
    "combined.to_csv('train_handcoded.csv')"
   ]
  },
  {
   "cell_type": "code",
   "execution_count": 242,
   "metadata": {},
   "outputs": [],
   "source": [
    "full_dataset = combined.append(handcoded)"
   ]
  },
  {
   "cell_type": "code",
   "execution_count": null,
   "metadata": {},
   "outputs": [],
   "source": [
    "full_dataset.to_csv('all_data.csv')"
   ]
  },
  {
   "cell_type": "code",
   "execution_count": 256,
   "metadata": {},
   "outputs": [
    {
     "name": "stdout",
     "output_type": "stream",
     "text": [
      "Number of rows in viable validation/test data: 13860\n",
      "Number of rows in hand-matched training data: 231\n",
      "Number of rows in the full dataset: 14091\n"
     ]
    }
   ],
   "source": [
    "print('Number of rows in viable validation/test data: {}'.format(len(combined)))\n",
    "print('Number of rows in hand-matched training data: {}'.format(len(handcoded)))\n",
    "print('Number of rows in the full dataset: {}'.format(len(full_dataset)))"
   ]
  },
  {
   "cell_type": "code",
   "execution_count": null,
   "metadata": {},
   "outputs": [],
   "source": []
  }
 ],
 "metadata": {
  "kernelspec": {
   "display_name": "Python 3",
   "language": "python",
   "name": "python3"
  },
  "language_info": {
   "codemirror_mode": {
    "name": "ipython",
    "version": 3
   },
   "file_extension": ".py",
   "mimetype": "text/x-python",
   "name": "python",
   "nbconvert_exporter": "python",
   "pygments_lexer": "ipython3",
   "version": "3.7.4"
  }
 },
 "nbformat": 4,
 "nbformat_minor": 2
}
